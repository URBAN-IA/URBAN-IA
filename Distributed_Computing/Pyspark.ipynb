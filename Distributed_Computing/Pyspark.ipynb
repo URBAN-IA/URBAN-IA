{
  "nbformat": 4,
  "nbformat_minor": 0,
  "metadata": {
    "colab": {
      "provenance": [],
      "authorship_tag": "ABX9TyO03X3yB2tPbttFNaGv012C",
      "include_colab_link": true
    },
    "kernelspec": {
      "name": "python3",
      "display_name": "Python 3"
    },
    "language_info": {
      "name": "python"
    }
  },
  "cells": [
    {
      "cell_type": "markdown",
      "metadata": {
        "id": "view-in-github",
        "colab_type": "text"
      },
      "source": [
        "<a href=\"https://colab.research.google.com/github/URBAN-IA/URBAN-IA/blob/main/Pyspark.ipynb\" target=\"_parent\"><img src=\"https://colab.research.google.com/assets/colab-badge.svg\" alt=\"Open In Colab\"/></a>"
      ]
    },
    {
      "cell_type": "code",
      "execution_count": 1,
      "metadata": {
        "colab": {
          "base_uri": "https://localhost:8080/"
        },
        "id": "u_OrpX0uCbSE",
        "outputId": "787e1d60-18b6-42ce-a341-6711786e7fb7"
      },
      "outputs": [
        {
          "output_type": "stream",
          "name": "stdout",
          "text": [
            "Requirement already satisfied: pyspark in /usr/local/lib/python3.10/dist-packages (3.5.3)\n",
            "Requirement already satisfied: py4j==0.10.9.7 in /usr/local/lib/python3.10/dist-packages (from pyspark) (0.10.9.7)\n"
          ]
        }
      ],
      "source": [
        "!apt-get install openjdk-8-jdk-headless -qq > /dev/null\n",
        "!pip install pyspark\n"
      ]
    },
    {
      "cell_type": "code",
      "source": [
        "import os\n",
        "os.environ[\"JAVA_HOME\"] = \"/usr/lib/jvm/java-8-openjdk-amd64\""
      ],
      "metadata": {
        "id": "_qP0OJwQCiPQ"
      },
      "execution_count": 2,
      "outputs": []
    },
    {
      "cell_type": "code",
      "source": [
        "from pyspark.sql import SparkSession\n",
        "\n",
        "spark = SparkSession.builder \\\n",
        "    .appName(\"Colab PySpark\") \\\n",
        "    .config(\"spark.driver.memory\", \"2g\") \\\n",
        "    .getOrCreate()\n"
      ],
      "metadata": {
        "id": "BzFqzAmhCj47"
      },
      "execution_count": 3,
      "outputs": []
    },
    {
      "cell_type": "code",
      "source": [
        "data = [(\"James\", \"Sales\", 3000), (\"Michael\", \"Sales\", 4600),\n",
        "        (\"Robert\", \"Sales\", 4100), (\"Maria\", \"Finance\", 3000)]\n",
        "\n",
        "columns = [\"Employee_Name\", \"Department\", \"Salary\"]\n",
        "\n",
        "df = spark.createDataFrame(data, schema=columns)\n",
        "df.show()\n",
        "\n",
        "df.groupBy(\"Department\").sum(\"Salary\").show()\n"
      ],
      "metadata": {
        "colab": {
          "base_uri": "https://localhost:8080/"
        },
        "id": "Jkaeje0gCk5f",
        "outputId": "4625d1c4-30ce-4e0a-f571-dacc948e5405"
      },
      "execution_count": 4,
      "outputs": [
        {
          "output_type": "stream",
          "name": "stdout",
          "text": [
            "+-------------+----------+------+\n",
            "|Employee_Name|Department|Salary|\n",
            "+-------------+----------+------+\n",
            "|        James|     Sales|  3000|\n",
            "|      Michael|     Sales|  4600|\n",
            "|       Robert|     Sales|  4100|\n",
            "|        Maria|   Finance|  3000|\n",
            "+-------------+----------+------+\n",
            "\n",
            "+----------+-----------+\n",
            "|Department|sum(Salary)|\n",
            "+----------+-----------+\n",
            "|     Sales|      11700|\n",
            "|   Finance|       3000|\n",
            "+----------+-----------+\n",
            "\n"
          ]
        }
      ]
    },
    {
      "cell_type": "code",
      "source": [
        "\n",
        "# SparkSession 생성\n",
        "spark = SparkSession.builder \\\n",
        "    .appName(\"PySpark Tutorial\") \\\n",
        "    .getOrCreate()\n",
        "\n",
        "# 샘플 데이터 생성\n",
        "data = [(\"Alice\", 34, \"HR\"), (\"Bob\", 45, \"Finance\"), (\"Cathy\", 29, \"IT\"), (\"David\", 30, \"Finance\")]\n",
        "columns = [\"Name\", \"Age\", \"Department\"]\n",
        "\n",
        "df = spark.createDataFrame(data, schema=columns)"
      ],
      "metadata": {
        "id": "SUDDEw44DL40"
      },
      "execution_count": 5,
      "outputs": []
    },
    {
      "cell_type": "markdown",
      "source": [
        "\n",
        "### 1. `show()`와 `printSchema()`\n",
        "\n",
        "- **`show()`**: DataFrame의 내용을 표 형태로 보여줍니다. 기본적으로 20개의 행을 출력하며, 더 많은 행을 보려면 `df.show(n)`처럼 인수를 전달할 수 있습니다.\n",
        "- **`printSchema()`**: DataFrame의 스키마(컬럼 이름과 데이터 타입)를 출력합니다.\n"
      ],
      "metadata": {
        "id": "7R-RR8D5DXSI"
      }
    },
    {
      "cell_type": "code",
      "source": [
        "df.show()\n",
        "df.printSchema()\n"
      ],
      "metadata": {
        "colab": {
          "base_uri": "https://localhost:8080/"
        },
        "id": "MLvrrXc5DL3V",
        "outputId": "f0f666fd-8f1e-4307-d6a6-ca8aa0c19a88"
      },
      "execution_count": 6,
      "outputs": [
        {
          "output_type": "stream",
          "name": "stdout",
          "text": [
            "+-----+---+----------+\n",
            "| Name|Age|Department|\n",
            "+-----+---+----------+\n",
            "|Alice| 34|        HR|\n",
            "|  Bob| 45|   Finance|\n",
            "|Cathy| 29|        IT|\n",
            "|David| 30|   Finance|\n",
            "+-----+---+----------+\n",
            "\n",
            "root\n",
            " |-- Name: string (nullable = true)\n",
            " |-- Age: long (nullable = true)\n",
            " |-- Department: string (nullable = true)\n",
            "\n"
          ]
        }
      ]
    },
    {
      "cell_type": "markdown",
      "source": [
        "\n",
        "### 2. `where()`와 `filter()`\n",
        "\n",
        "특정 조건을 만족하는 행만 선택할 때 사용합니다. `where()`와 `filter()`는 동일한 기능을 제공합니다."
      ],
      "metadata": {
        "id": "ki2U2ciaDkFV"
      }
    },
    {
      "cell_type": "code",
      "source": [
        "# Age가 30 이상인 행 선택\n",
        "df.where(df.Age >= 30).show()\n",
        "df.filter(df.Age >= 30).show()\n"
      ],
      "metadata": {
        "colab": {
          "base_uri": "https://localhost:8080/"
        },
        "id": "_ehkQctEDL1f",
        "outputId": "667ba3f4-0b7d-49e4-dd78-4f411fa51fea"
      },
      "execution_count": 7,
      "outputs": [
        {
          "output_type": "stream",
          "name": "stdout",
          "text": [
            "+-----+---+----------+\n",
            "| Name|Age|Department|\n",
            "+-----+---+----------+\n",
            "|Alice| 34|        HR|\n",
            "|  Bob| 45|   Finance|\n",
            "|David| 30|   Finance|\n",
            "+-----+---+----------+\n",
            "\n",
            "+-----+---+----------+\n",
            "| Name|Age|Department|\n",
            "+-----+---+----------+\n",
            "|Alice| 34|        HR|\n",
            "|  Bob| 45|   Finance|\n",
            "|David| 30|   Finance|\n",
            "+-----+---+----------+\n",
            "\n"
          ]
        }
      ]
    },
    {
      "cell_type": "markdown",
      "source": [
        "\n",
        "### 3. `select()`와 `drop()`\n",
        "\n",
        "- **`select()`**: 특정 컬럼만 선택할 때 사용합니다.\n",
        "- **`drop()`**: 특정 컬럼을 제거할 때 사용합니다.\n"
      ],
      "metadata": {
        "id": "-uF1TFV0Dr6I"
      }
    },
    {
      "cell_type": "code",
      "source": [
        "# Name과 Age 컬럼만 선택\n",
        "df.select(\"Name\", \"Age\").show()\n",
        "\n",
        "# Department 컬럼 제거\n",
        "df.drop(\"Department\").show()\n"
      ],
      "metadata": {
        "colab": {
          "base_uri": "https://localhost:8080/"
        },
        "id": "_qNgByZDDLy8",
        "outputId": "4cbd6b72-e808-4599-db7b-a891b9a8a046"
      },
      "execution_count": 8,
      "outputs": [
        {
          "output_type": "stream",
          "name": "stdout",
          "text": [
            "+-----+---+\n",
            "| Name|Age|\n",
            "+-----+---+\n",
            "|Alice| 34|\n",
            "|  Bob| 45|\n",
            "|Cathy| 29|\n",
            "|David| 30|\n",
            "+-----+---+\n",
            "\n",
            "+-----+---+\n",
            "| Name|Age|\n",
            "+-----+---+\n",
            "|Alice| 34|\n",
            "|  Bob| 45|\n",
            "|Cathy| 29|\n",
            "|David| 30|\n",
            "+-----+---+\n",
            "\n"
          ]
        }
      ]
    },
    {
      "cell_type": "markdown",
      "source": [
        "\n",
        "### 4. `join()`\n",
        "\n",
        "다른 DataFrame과 조인할 때 사용합니다. 기본적으로 `inner` 조인을 수행하며, `left`, `right`, `outer` 조인도 가능합니다."
      ],
      "metadata": {
        "id": "8QTaMHB5DxQ9"
      }
    },
    {
      "cell_type": "code",
      "source": [
        "# 예제 데이터 생성\n",
        "data2 = [(\"HR\", \"New York\"), (\"Finance\", \"San Francisco\"), (\"IT\", \"Seattle\")]\n",
        "columns2 = [\"Department\", \"Location\"]\n",
        "df2 = spark.createDataFrame(data2, schema=columns2)\n",
        "\n",
        "# Department 컬럼을 기준으로 조인\n",
        "df.join(df2, on=\"Department\", how=\"inner\").show()\n"
      ],
      "metadata": {
        "colab": {
          "base_uri": "https://localhost:8080/"
        },
        "id": "Uelhdxj0DLwW",
        "outputId": "9635c3c7-e134-4af6-8f0e-b0815907b8b5"
      },
      "execution_count": 9,
      "outputs": [
        {
          "output_type": "stream",
          "name": "stdout",
          "text": [
            "+----------+-----+---+-------------+\n",
            "|Department| Name|Age|     Location|\n",
            "+----------+-----+---+-------------+\n",
            "|   Finance|  Bob| 45|San Francisco|\n",
            "|   Finance|David| 30|San Francisco|\n",
            "|        HR|Alice| 34|     New York|\n",
            "|        IT|Cathy| 29|      Seattle|\n",
            "+----------+-----+---+-------------+\n",
            "\n"
          ]
        }
      ]
    },
    {
      "cell_type": "markdown",
      "source": [
        "\n",
        "### 5. `persist()`와 `cache()`\n",
        "\n",
        "데이터를 메모리에 저장하여 반복 작업 시 성능을 높입니다. `cache()`는 메모리에만 저장하는 반면, `persist()`는 저장소 레벨을 지정하여 메모리 외에도 디스크에 저장할 수 있습니다."
      ],
      "metadata": {
        "id": "5Jq-2cFPE4tt"
      }
    },
    {
      "cell_type": "code",
      "source": [
        "# 캐싱\n",
        "df.cache()\n",
        "\n",
        "# 또는 메모리에 저장\n",
        "df.persist()\n"
      ],
      "metadata": {
        "colab": {
          "base_uri": "https://localhost:8080/"
        },
        "id": "5Dc5Vm9nDLtz",
        "outputId": "6b9c2037-af1e-44c8-a603-09302e03e9e3"
      },
      "execution_count": 10,
      "outputs": [
        {
          "output_type": "execute_result",
          "data": {
            "text/plain": [
              "DataFrame[Name: string, Age: bigint, Department: string]"
            ]
          },
          "metadata": {},
          "execution_count": 10
        }
      ]
    },
    {
      "cell_type": "code",
      "source": [
        "\n",
        "### 6. `groupBy()`, `distinct()`, `count()`\n",
        "\n",
        "- **`groupBy()`**: 특정 컬럼을 기준으로 그룹화하여 집계 작업을 수행할 수 있습니다.\n",
        "- **`distinct()`**: 중복을 제거하고 고유한 행만 남깁니다.\n",
        "- **`count()`**: 행의 개수를 계산합니다."
      ],
      "metadata": {
        "id": "BKl4H2t_DLrE"
      },
      "execution_count": null,
      "outputs": []
    },
    {
      "cell_type": "code",
      "source": [
        "# Department별 평균 나이 계산\n",
        "df.groupBy(\"Department\").mean(\"Age\").show()\n",
        "\n",
        "# 중복 제거\n",
        "df.distinct().show()\n",
        "\n",
        "# 행 개수 세기\n",
        "df.count()\n"
      ],
      "metadata": {
        "colab": {
          "base_uri": "https://localhost:8080/"
        },
        "id": "z94ZtnkBE-MQ",
        "outputId": "6945e63c-5e77-45c8-efea-1a20898ef9cd"
      },
      "execution_count": 11,
      "outputs": [
        {
          "output_type": "stream",
          "name": "stdout",
          "text": [
            "+----------+--------+\n",
            "|Department|avg(Age)|\n",
            "+----------+--------+\n",
            "|        HR|    34.0|\n",
            "|   Finance|    37.5|\n",
            "|        IT|    29.0|\n",
            "+----------+--------+\n",
            "\n",
            "+-----+---+----------+\n",
            "| Name|Age|Department|\n",
            "+-----+---+----------+\n",
            "|  Bob| 45|   Finance|\n",
            "|Alice| 34|        HR|\n",
            "|Cathy| 29|        IT|\n",
            "|David| 30|   Finance|\n",
            "+-----+---+----------+\n",
            "\n"
          ]
        },
        {
          "output_type": "execute_result",
          "data": {
            "text/plain": [
              "4"
            ]
          },
          "metadata": {},
          "execution_count": 11
        }
      ]
    },
    {
      "cell_type": "code",
      "source": [
        "spark.stop()\n"
      ],
      "metadata": {
        "id": "RPS0tDdnClsR"
      },
      "execution_count": null,
      "outputs": []
    }
  ]
}
